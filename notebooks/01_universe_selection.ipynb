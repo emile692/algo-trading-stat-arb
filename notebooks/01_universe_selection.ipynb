{
 "cells": [
  {
   "metadata": {
    "ExecuteTime": {
     "end_time": "2025-10-08T21:47:49.956801Z",
     "start_time": "2025-10-08T21:47:49.893408Z"
    }
   },
   "cell_type": "code",
   "source": [
    "import yfinance as yf\n",
    "from pathlib import Path\n",
    "import yaml\n",
    "\n",
    "from src.data_loader import extract_field_yf, prepare_prices\n",
    "from src.data_loader import compute_returns, save_parquet"
   ],
   "id": "a83837ea1159f1f9",
   "outputs": [],
   "execution_count": 25
  },
  {
   "metadata": {
    "ExecuteTime": {
     "end_time": "2025-10-08T21:47:49.988787Z",
     "start_time": "2025-10-08T21:47:49.956801Z"
    }
   },
   "cell_type": "code",
   "source": [
    "params = yaml.safe_load(Path(\"../config/params.yaml\").read_text())\n",
    "tickers = params[\"universe\"][\"tickers\"]\n",
    "period = params[\"data\"][\"period\"]\n",
    "interval = params[\"data\"][\"interval\"]\n",
    "field = params[\"data\"][\"field\"]\n",
    "tz = params[\"data\"][\"tz\"]\n",
    "\n",
    "path_close = params[\"paths\"][\"processed_close\"]\n",
    "path_returns = params[\"paths\"][\"processed_returns\"]\n",
    "path_corr = params[\"paths\"][\"corr\"]"
   ],
   "id": "841acf8c4e8b71e8",
   "outputs": [],
   "execution_count": 26
  },
  {
   "cell_type": "code",
   "id": "initial_id",
   "metadata": {
    "collapsed": true,
    "ExecuteTime": {
     "end_time": "2025-10-08T21:47:52.450384Z",
     "start_time": "2025-10-08T21:47:50.133331Z"
    }
   },
   "source": [
    "raw = yf.download(tickers, period=period, interval=interval, auto_adjust=False)\n",
    "closes = extract_field_yf(raw, field=field)\n",
    "prices = prepare_prices(closes, tz=tz)\n",
    "prices.head()"
   ],
   "outputs": [
    {
     "name": "stderr",
     "output_type": "stream",
     "text": [
      "[*********************100%***********************]  9 of 9 completed\n"
     ]
    },
    {
     "data": {
      "text/plain": [
       "Ticker                           BAC         BK          C          GS  \\\n",
       "Datetime                                                                 \n",
       "2024-10-09 15:30:00+02:00  39.910000  73.459999  63.555000  498.095001   \n",
       "2024-10-09 16:30:00+02:00  40.185001  73.919998  63.933998  503.790009   \n",
       "2024-10-09 17:30:00+02:00  40.215000  73.910004  63.993599  504.084991   \n",
       "2024-10-09 18:30:00+02:00  40.279999  74.048599  64.121902  505.010010   \n",
       "2024-10-09 19:30:00+02:00  40.095001  73.790001  64.074997  504.109985   \n",
       "\n",
       "Ticker                            JPM          MS         PNC        USB  \\\n",
       "Datetime                                                                   \n",
       "2024-10-09 15:30:00+02:00  211.550003  107.945000  181.740005  44.650002   \n",
       "2024-10-09 16:30:00+02:00  213.289993  108.599998  183.149994  45.055000   \n",
       "2024-10-09 17:30:00+02:00  213.329895  108.750000  183.330002  44.990002   \n",
       "2024-10-09 18:30:00+02:00  213.910004  108.900002  183.634995  44.974998   \n",
       "2024-10-09 19:30:00+02:00  213.366104  108.849998  182.891998  44.950001   \n",
       "\n",
       "Ticker                           WFC  \n",
       "Datetime                              \n",
       "2024-10-09 15:30:00+02:00  57.185001  \n",
       "2024-10-09 16:30:00+02:00  57.410000  \n",
       "2024-10-09 17:30:00+02:00  57.415001  \n",
       "2024-10-09 18:30:00+02:00  57.439999  \n",
       "2024-10-09 19:30:00+02:00  57.290001  "
      ],
      "text/html": [
       "<div>\n",
       "<style scoped>\n",
       "    .dataframe tbody tr th:only-of-type {\n",
       "        vertical-align: middle;\n",
       "    }\n",
       "\n",
       "    .dataframe tbody tr th {\n",
       "        vertical-align: top;\n",
       "    }\n",
       "\n",
       "    .dataframe thead th {\n",
       "        text-align: right;\n",
       "    }\n",
       "</style>\n",
       "<table border=\"1\" class=\"dataframe\">\n",
       "  <thead>\n",
       "    <tr style=\"text-align: right;\">\n",
       "      <th>Ticker</th>\n",
       "      <th>BAC</th>\n",
       "      <th>BK</th>\n",
       "      <th>C</th>\n",
       "      <th>GS</th>\n",
       "      <th>JPM</th>\n",
       "      <th>MS</th>\n",
       "      <th>PNC</th>\n",
       "      <th>USB</th>\n",
       "      <th>WFC</th>\n",
       "    </tr>\n",
       "    <tr>\n",
       "      <th>Datetime</th>\n",
       "      <th></th>\n",
       "      <th></th>\n",
       "      <th></th>\n",
       "      <th></th>\n",
       "      <th></th>\n",
       "      <th></th>\n",
       "      <th></th>\n",
       "      <th></th>\n",
       "      <th></th>\n",
       "    </tr>\n",
       "  </thead>\n",
       "  <tbody>\n",
       "    <tr>\n",
       "      <th>2024-10-09 15:30:00+02:00</th>\n",
       "      <td>39.910000</td>\n",
       "      <td>73.459999</td>\n",
       "      <td>63.555000</td>\n",
       "      <td>498.095001</td>\n",
       "      <td>211.550003</td>\n",
       "      <td>107.945000</td>\n",
       "      <td>181.740005</td>\n",
       "      <td>44.650002</td>\n",
       "      <td>57.185001</td>\n",
       "    </tr>\n",
       "    <tr>\n",
       "      <th>2024-10-09 16:30:00+02:00</th>\n",
       "      <td>40.185001</td>\n",
       "      <td>73.919998</td>\n",
       "      <td>63.933998</td>\n",
       "      <td>503.790009</td>\n",
       "      <td>213.289993</td>\n",
       "      <td>108.599998</td>\n",
       "      <td>183.149994</td>\n",
       "      <td>45.055000</td>\n",
       "      <td>57.410000</td>\n",
       "    </tr>\n",
       "    <tr>\n",
       "      <th>2024-10-09 17:30:00+02:00</th>\n",
       "      <td>40.215000</td>\n",
       "      <td>73.910004</td>\n",
       "      <td>63.993599</td>\n",
       "      <td>504.084991</td>\n",
       "      <td>213.329895</td>\n",
       "      <td>108.750000</td>\n",
       "      <td>183.330002</td>\n",
       "      <td>44.990002</td>\n",
       "      <td>57.415001</td>\n",
       "    </tr>\n",
       "    <tr>\n",
       "      <th>2024-10-09 18:30:00+02:00</th>\n",
       "      <td>40.279999</td>\n",
       "      <td>74.048599</td>\n",
       "      <td>64.121902</td>\n",
       "      <td>505.010010</td>\n",
       "      <td>213.910004</td>\n",
       "      <td>108.900002</td>\n",
       "      <td>183.634995</td>\n",
       "      <td>44.974998</td>\n",
       "      <td>57.439999</td>\n",
       "    </tr>\n",
       "    <tr>\n",
       "      <th>2024-10-09 19:30:00+02:00</th>\n",
       "      <td>40.095001</td>\n",
       "      <td>73.790001</td>\n",
       "      <td>64.074997</td>\n",
       "      <td>504.109985</td>\n",
       "      <td>213.366104</td>\n",
       "      <td>108.849998</td>\n",
       "      <td>182.891998</td>\n",
       "      <td>44.950001</td>\n",
       "      <td>57.290001</td>\n",
       "    </tr>\n",
       "  </tbody>\n",
       "</table>\n",
       "</div>"
      ]
     },
     "execution_count": 27,
     "metadata": {},
     "output_type": "execute_result"
    }
   ],
   "execution_count": 27
  },
  {
   "metadata": {
    "ExecuteTime": {
     "end_time": "2025-10-08T21:47:52.683509Z",
     "start_time": "2025-10-08T21:47:52.531622Z"
    }
   },
   "cell_type": "code",
   "source": [
    "returns = compute_returns(prices, log=True)\n",
    "corr = returns.corr()\n",
    "\n",
    "save_parquet(prices, f\"../{path_close}\")\n",
    "save_parquet(returns, f\"../{path_returns}\")\n",
    "save_parquet(corr, f\"../{path_corr}\")\n",
    "\n",
    "print(\"✅ Saved:\")\n",
    "print(f\"- close -> {path_close}\")\n",
    "print(f\"- returns -> {path_returns}\")\n",
    "print(f\"- corr -> {path_corr}\")"
   ],
   "id": "ae9febe19703996f",
   "outputs": [
    {
     "name": "stdout",
     "output_type": "stream",
     "text": [
      "✅ Saved:\n",
      "- close -> data/processed/close_1h.parquet\n",
      "- returns -> data/processed/returns_1h.parquet\n",
      "- corr -> data/processed/corr_1h.parquet\n"
     ]
    }
   ],
   "execution_count": 28
  }
 ],
 "metadata": {
  "kernelspec": {
   "display_name": "Python 3",
   "language": "python",
   "name": "python3"
  },
  "language_info": {
   "codemirror_mode": {
    "name": "ipython",
    "version": 2
   },
   "file_extension": ".py",
   "mimetype": "text/x-python",
   "name": "python",
   "nbconvert_exporter": "python",
   "pygments_lexer": "ipython2",
   "version": "2.7.6"
  }
 },
 "nbformat": 4,
 "nbformat_minor": 5
}
