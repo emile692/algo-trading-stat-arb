{
 "cells": [
  {
   "metadata": {
    "ExecuteTime": {
     "end_time": "2025-10-19T22:24:23.515411Z",
     "start_time": "2025-10-19T22:24:23.502323Z"
    }
   },
   "cell_type": "code",
   "source": [
    "import yfinance as yf\n",
    "from pathlib import Path\n",
    "import yaml\n",
    "\n",
    "from src.data_loader import extract_field_yf, prepare_prices\n",
    "from src.data_loader import compute_returns, save_parquet"
   ],
   "id": "a83837ea1159f1f9",
   "outputs": [],
   "execution_count": 9
  },
  {
   "metadata": {
    "ExecuteTime": {
     "end_time": "2025-10-19T22:24:23.536479Z",
     "start_time": "2025-10-19T22:24:23.520853Z"
    }
   },
   "cell_type": "code",
   "source": [
    "params = yaml.safe_load(Path(\"../config/params.yaml\").read_text())\n",
    "tickers = params[\"universe\"][\"tickers\"]\n",
    "period = params[\"data\"][\"period\"]\n",
    "interval = params[\"data\"][\"interval\"]\n",
    "field = params[\"data\"][\"field\"]\n",
    "tz = params[\"data\"][\"tz\"]\n",
    "\n",
    "path_close = params[\"paths\"][\"processed_close\"]\n",
    "path_returns = params[\"paths\"][\"processed_returns\"]\n",
    "path_corr = params[\"paths\"][\"corr\"]"
   ],
   "id": "841acf8c4e8b71e8",
   "outputs": [],
   "execution_count": 10
  },
  {
   "cell_type": "code",
   "id": "initial_id",
   "metadata": {
    "collapsed": true,
    "ExecuteTime": {
     "end_time": "2025-10-19T22:24:24.243293Z",
     "start_time": "2025-10-19T22:24:23.545641Z"
    }
   },
   "source": [
    "raw = yf.download(tickers, period=period, interval=interval, auto_adjust=False)\n",
    "closes = extract_field_yf(raw, field=field)\n",
    "prices = prepare_prices(closes, tz=tz)\n",
    "prices.head()"
   ],
   "outputs": [
    {
     "name": "stderr",
     "output_type": "stream",
     "text": [
      "[*********************100%***********************]  9 of 9 completed\n"
     ]
    },
    {
     "data": {
      "text/plain": [
       "Ticker                           BAC         BK          C          GS  \\\n",
       "Datetime                                                                 \n",
       "2023-10-18 15:30:00+02:00  27.920000  43.369999  40.639999  305.484985   \n",
       "2023-10-18 16:30:00+02:00  27.546000  43.435001  40.509899  303.239990   \n",
       "2023-10-18 17:30:00+02:00  27.520000  43.259998  40.369999  302.864990   \n",
       "2023-10-18 18:30:00+02:00  27.565001  43.430000  40.445000  303.122314   \n",
       "2023-10-18 19:30:00+02:00  27.480000  43.389999  40.419998  303.279999   \n",
       "\n",
       "Ticker                            JPM         MS         PNC        USB  \\\n",
       "Datetime                                                                  \n",
       "2023-10-18 15:30:00+02:00  146.850006  74.910004  117.120003  33.884998   \n",
       "2023-10-18 16:30:00+02:00  146.389999  74.190002  116.500000  33.733002   \n",
       "2023-10-18 17:30:00+02:00  146.199997  74.084999  116.356400  33.744999   \n",
       "2023-10-18 18:30:00+02:00  146.690002  74.570099  116.980003  33.759998   \n",
       "2023-10-18 19:30:00+02:00  146.399994  74.650002  116.754997  33.717999   \n",
       "\n",
       "Ticker                           WFC  \n",
       "Datetime                              \n",
       "2023-10-18 15:30:00+02:00  41.669998  \n",
       "2023-10-18 16:30:00+02:00  41.665001  \n",
       "2023-10-18 17:30:00+02:00  41.549999  \n",
       "2023-10-18 18:30:00+02:00  41.555000  \n",
       "2023-10-18 19:30:00+02:00  41.509998  "
      ],
      "text/html": [
       "<div>\n",
       "<style scoped>\n",
       "    .dataframe tbody tr th:only-of-type {\n",
       "        vertical-align: middle;\n",
       "    }\n",
       "\n",
       "    .dataframe tbody tr th {\n",
       "        vertical-align: top;\n",
       "    }\n",
       "\n",
       "    .dataframe thead th {\n",
       "        text-align: right;\n",
       "    }\n",
       "</style>\n",
       "<table border=\"1\" class=\"dataframe\">\n",
       "  <thead>\n",
       "    <tr style=\"text-align: right;\">\n",
       "      <th>Ticker</th>\n",
       "      <th>BAC</th>\n",
       "      <th>BK</th>\n",
       "      <th>C</th>\n",
       "      <th>GS</th>\n",
       "      <th>JPM</th>\n",
       "      <th>MS</th>\n",
       "      <th>PNC</th>\n",
       "      <th>USB</th>\n",
       "      <th>WFC</th>\n",
       "    </tr>\n",
       "    <tr>\n",
       "      <th>Datetime</th>\n",
       "      <th></th>\n",
       "      <th></th>\n",
       "      <th></th>\n",
       "      <th></th>\n",
       "      <th></th>\n",
       "      <th></th>\n",
       "      <th></th>\n",
       "      <th></th>\n",
       "      <th></th>\n",
       "    </tr>\n",
       "  </thead>\n",
       "  <tbody>\n",
       "    <tr>\n",
       "      <th>2023-10-18 15:30:00+02:00</th>\n",
       "      <td>27.920000</td>\n",
       "      <td>43.369999</td>\n",
       "      <td>40.639999</td>\n",
       "      <td>305.484985</td>\n",
       "      <td>146.850006</td>\n",
       "      <td>74.910004</td>\n",
       "      <td>117.120003</td>\n",
       "      <td>33.884998</td>\n",
       "      <td>41.669998</td>\n",
       "    </tr>\n",
       "    <tr>\n",
       "      <th>2023-10-18 16:30:00+02:00</th>\n",
       "      <td>27.546000</td>\n",
       "      <td>43.435001</td>\n",
       "      <td>40.509899</td>\n",
       "      <td>303.239990</td>\n",
       "      <td>146.389999</td>\n",
       "      <td>74.190002</td>\n",
       "      <td>116.500000</td>\n",
       "      <td>33.733002</td>\n",
       "      <td>41.665001</td>\n",
       "    </tr>\n",
       "    <tr>\n",
       "      <th>2023-10-18 17:30:00+02:00</th>\n",
       "      <td>27.520000</td>\n",
       "      <td>43.259998</td>\n",
       "      <td>40.369999</td>\n",
       "      <td>302.864990</td>\n",
       "      <td>146.199997</td>\n",
       "      <td>74.084999</td>\n",
       "      <td>116.356400</td>\n",
       "      <td>33.744999</td>\n",
       "      <td>41.549999</td>\n",
       "    </tr>\n",
       "    <tr>\n",
       "      <th>2023-10-18 18:30:00+02:00</th>\n",
       "      <td>27.565001</td>\n",
       "      <td>43.430000</td>\n",
       "      <td>40.445000</td>\n",
       "      <td>303.122314</td>\n",
       "      <td>146.690002</td>\n",
       "      <td>74.570099</td>\n",
       "      <td>116.980003</td>\n",
       "      <td>33.759998</td>\n",
       "      <td>41.555000</td>\n",
       "    </tr>\n",
       "    <tr>\n",
       "      <th>2023-10-18 19:30:00+02:00</th>\n",
       "      <td>27.480000</td>\n",
       "      <td>43.389999</td>\n",
       "      <td>40.419998</td>\n",
       "      <td>303.279999</td>\n",
       "      <td>146.399994</td>\n",
       "      <td>74.650002</td>\n",
       "      <td>116.754997</td>\n",
       "      <td>33.717999</td>\n",
       "      <td>41.509998</td>\n",
       "    </tr>\n",
       "  </tbody>\n",
       "</table>\n",
       "</div>"
      ]
     },
     "execution_count": 11,
     "metadata": {},
     "output_type": "execute_result"
    }
   ],
   "execution_count": 11
  },
  {
   "metadata": {
    "ExecuteTime": {
     "end_time": "2025-10-19T22:24:24.343175Z",
     "start_time": "2025-10-19T22:24:24.312512Z"
    }
   },
   "cell_type": "code",
   "source": [
    "returns = compute_returns(prices, log=True)\n",
    "corr = returns.corr()\n",
    "\n",
    "save_parquet(prices, f\"../{path_close}\")\n",
    "save_parquet(returns, f\"../{path_returns}\")\n",
    "save_parquet(corr, f\"../{path_corr}\")\n",
    "\n",
    "print(\"✅ Saved:\")\n",
    "print(f\"- close -> {path_close}\")\n",
    "print(f\"- returns -> {path_returns}\")\n",
    "print(f\"- corr -> {path_corr}\")"
   ],
   "id": "ae9febe19703996f",
   "outputs": [
    {
     "name": "stdout",
     "output_type": "stream",
     "text": [
      "✅ Saved:\n",
      "- close -> data/processed/close_1h.parquet\n",
      "- returns -> data/processed/returns_1h.parquet\n",
      "- corr -> data/processed/corr_1h.parquet\n"
     ]
    }
   ],
   "execution_count": 12
  }
 ],
 "metadata": {
  "kernelspec": {
   "display_name": "Python 3",
   "language": "python",
   "name": "python3"
  },
  "language_info": {
   "codemirror_mode": {
    "name": "ipython",
    "version": 2
   },
   "file_extension": ".py",
   "mimetype": "text/x-python",
   "name": "python",
   "nbconvert_exporter": "python",
   "pygments_lexer": "ipython2",
   "version": "2.7.6"
  }
 },
 "nbformat": 4,
 "nbformat_minor": 5
}
