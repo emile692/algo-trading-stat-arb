{
 "cells": [
  {
   "cell_type": "code",
   "id": "initial_id",
   "metadata": {
    "collapsed": true,
    "ExecuteTime": {
     "end_time": "2025-10-08T21:51:28.640600Z",
     "start_time": "2025-10-08T21:51:25.301727Z"
    }
   },
   "source": [
    "import yaml\n",
    "from pathlib import Path\n",
    "import pandas as pd\n",
    "from src.data_loader import load_parquet\n",
    "from src.pair_selection import analyze_pairs  # ton fichier déjà fourni\n",
    "from src.pair_selection_dynamic import analyze_pairs_dynamic, DynamicPairParams"
   ],
   "outputs": [],
   "execution_count": 1
  },
  {
   "metadata": {
    "ExecuteTime": {
     "end_time": "2025-10-08T21:51:28.656538Z",
     "start_time": "2025-10-08T21:51:28.640600Z"
    }
   },
   "cell_type": "code",
   "source": [
    "params = yaml.safe_load(Path(\"../config/params.yaml\").read_text())\n",
    "path_close = params[\"paths\"][\"processed_close\"]\n",
    "min_lookback = params[\"pairs\"][\"min_lookback\"]\n",
    "fdr_alpha = params[\"pairs\"][\"fdr_alpha\"]\n",
    "hl_min = params[\"pairs\"][\"hl_min\"]\n",
    "hl_max = params[\"pairs\"][\"hl_max\"]"
   ],
   "id": "a6e8822850737eff",
   "outputs": [],
   "execution_count": 2
  },
  {
   "metadata": {
    "ExecuteTime": {
     "end_time": "2025-10-08T21:51:29.310884Z",
     "start_time": "2025-10-08T21:51:29.089131Z"
    }
   },
   "cell_type": "code",
   "source": [
    "prices = load_parquet(f\"../{path_close}\")\n",
    "prices.head(), prices.shape"
   ],
   "id": "2293a774a004fcd2",
   "outputs": [
    {
     "data": {
      "text/plain": [
       "(Ticker                           BAC         BK          C          GS  \\\n",
       " Datetime                                                                 \n",
       " 2024-10-09 15:30:00+02:00  39.910000  73.459999  63.555000  498.095001   \n",
       " 2024-10-09 16:30:00+02:00  40.185001  73.919998  63.933998  503.790009   \n",
       " 2024-10-09 17:30:00+02:00  40.215000  73.910004  63.993599  504.084991   \n",
       " 2024-10-09 18:30:00+02:00  40.279999  74.048599  64.121902  505.010010   \n",
       " 2024-10-09 19:30:00+02:00  40.095001  73.790001  64.074997  504.109985   \n",
       " \n",
       " Ticker                            JPM          MS         PNC        USB  \\\n",
       " Datetime                                                                   \n",
       " 2024-10-09 15:30:00+02:00  211.550003  107.945000  181.740005  44.650002   \n",
       " 2024-10-09 16:30:00+02:00  213.289993  108.599998  183.149994  45.055000   \n",
       " 2024-10-09 17:30:00+02:00  213.329895  108.750000  183.330002  44.990002   \n",
       " 2024-10-09 18:30:00+02:00  213.910004  108.900002  183.634995  44.974998   \n",
       " 2024-10-09 19:30:00+02:00  213.366104  108.849998  182.891998  44.950001   \n",
       " \n",
       " Ticker                           WFC  \n",
       " Datetime                              \n",
       " 2024-10-09 15:30:00+02:00  57.185001  \n",
       " 2024-10-09 16:30:00+02:00  57.410000  \n",
       " 2024-10-09 17:30:00+02:00  57.415001  \n",
       " 2024-10-09 18:30:00+02:00  57.439999  \n",
       " 2024-10-09 19:30:00+02:00  57.290001  ,\n",
       " (1738, 9))"
      ]
     },
     "execution_count": 3,
     "metadata": {},
     "output_type": "execute_result"
    }
   ],
   "execution_count": 3
  },
  {
   "metadata": {
    "ExecuteTime": {
     "end_time": "2025-10-08T21:51:29.933102Z",
     "start_time": "2025-10-08T21:51:29.328986Z"
    }
   },
   "cell_type": "code",
   "source": [
    "pairs = analyze_pairs(\n",
    "    prices=prices,\n",
    "    min_lookback=min_lookback,\n",
    "    pvalue_threshold=fdr_alpha,\n",
    "    hl_min=hl_min,\n",
    "    hl_max=hl_max,\n",
    "    verbose=False\n",
    ")\n",
    "pairs.head(15)"
   ],
   "id": "4d87c3bc8fac3061",
   "outputs": [
    {
     "ename": "TypeError",
     "evalue": "ufunc 'isnan' not supported for the input types, and the inputs could not be safely coerced to any supported types according to the casting rule ''safe''",
     "output_type": "error",
     "traceback": [
      "\u001B[1;31m---------------------------------------------------------------------------\u001B[0m",
      "\u001B[1;31mTypeError\u001B[0m                                 Traceback (most recent call last)",
      "Cell \u001B[1;32mIn[4], line 1\u001B[0m\n\u001B[1;32m----> 1\u001B[0m pairs \u001B[38;5;241m=\u001B[39m \u001B[43manalyze_pairs\u001B[49m\u001B[43m(\u001B[49m\n\u001B[0;32m      2\u001B[0m \u001B[43m    \u001B[49m\u001B[43mprices\u001B[49m\u001B[38;5;241;43m=\u001B[39;49m\u001B[43mprices\u001B[49m\u001B[43m,\u001B[49m\n\u001B[0;32m      3\u001B[0m \u001B[43m    \u001B[49m\u001B[43mmin_lookback\u001B[49m\u001B[38;5;241;43m=\u001B[39;49m\u001B[43mmin_lookback\u001B[49m\u001B[43m,\u001B[49m\n\u001B[0;32m      4\u001B[0m \u001B[43m    \u001B[49m\u001B[43mpvalue_threshold\u001B[49m\u001B[38;5;241;43m=\u001B[39;49m\u001B[43mfdr_alpha\u001B[49m\u001B[43m,\u001B[49m\n\u001B[0;32m      5\u001B[0m \u001B[43m    \u001B[49m\u001B[43mhl_min\u001B[49m\u001B[38;5;241;43m=\u001B[39;49m\u001B[43mhl_min\u001B[49m\u001B[43m,\u001B[49m\n\u001B[0;32m      6\u001B[0m \u001B[43m    \u001B[49m\u001B[43mhl_max\u001B[49m\u001B[38;5;241;43m=\u001B[39;49m\u001B[43mhl_max\u001B[49m\u001B[43m,\u001B[49m\n\u001B[0;32m      7\u001B[0m \u001B[43m    \u001B[49m\u001B[43mverbose\u001B[49m\u001B[38;5;241;43m=\u001B[39;49m\u001B[38;5;28;43;01mFalse\u001B[39;49;00m\n\u001B[0;32m      8\u001B[0m \u001B[43m)\u001B[49m\n\u001B[0;32m      9\u001B[0m pairs\u001B[38;5;241m.\u001B[39mhead(\u001B[38;5;241m15\u001B[39m)\n",
      "File \u001B[1;32mC:\\Donnees\\Business\\Trading\\Code\\algo-trading-stat-arb\\src\\pair_selection.py:248\u001B[0m, in \u001B[0;36manalyze_pairs\u001B[1;34m(prices, max_pairs, min_lookback, pvalue_threshold, hl_min, hl_max, verbose)\u001B[0m\n\u001B[0;32m    245\u001B[0m     sp_mean \u001B[38;5;241m=\u001B[39m \u001B[38;5;28mfloat\u001B[39m(spread\u001B[38;5;241m.\u001B[39mmean())\n\u001B[0;32m    246\u001B[0m     sp_vol \u001B[38;5;241m=\u001B[39m \u001B[38;5;28mfloat\u001B[39m(spread\u001B[38;5;241m.\u001B[39mstd(ddof\u001B[38;5;241m=\u001B[39m\u001B[38;5;241m0\u001B[39m))\n\u001B[1;32m--> 248\u001B[0m     sc \u001B[38;5;241m=\u001B[39m \u001B[43mscore_pair\u001B[49m\u001B[43m(\u001B[49m\u001B[43mpval\u001B[49m\u001B[43m,\u001B[49m\u001B[43m \u001B[49m\u001B[43mhl\u001B[49m\u001B[43m,\u001B[49m\u001B[43m \u001B[49m\u001B[43msp_vol\u001B[49m\u001B[43m,\u001B[49m\u001B[43m \u001B[49m\u001B[43mhl_min\u001B[49m\u001B[38;5;241;43m=\u001B[39;49m\u001B[43mhl_min\u001B[49m\u001B[43m,\u001B[49m\u001B[43m \u001B[49m\u001B[43mhl_max\u001B[49m\u001B[38;5;241;43m=\u001B[39;49m\u001B[43mhl_max\u001B[49m\u001B[43m)\u001B[49m\n\u001B[0;32m    250\u001B[0m     results\u001B[38;5;241m.\u001B[39mappend(\n\u001B[0;32m    251\u001B[0m         {\n\u001B[0;32m    252\u001B[0m             \u001B[38;5;124m\"\u001B[39m\u001B[38;5;124mticker_a\u001B[39m\u001B[38;5;124m\"\u001B[39m: a,\n\u001B[1;32m   (...)\u001B[0m\n\u001B[0;32m    262\u001B[0m         }\n\u001B[0;32m    263\u001B[0m     )\n\u001B[0;32m    265\u001B[0m res \u001B[38;5;241m=\u001B[39m pd\u001B[38;5;241m.\u001B[39mDataFrame(results)\n",
      "File \u001B[1;32mC:\\Donnees\\Business\\Trading\\Code\\algo-trading-stat-arb\\src\\pair_selection.py:146\u001B[0m, in \u001B[0;36mscore_pair\u001B[1;34m(pvalue, hl, spread_vol, hl_min, hl_max)\u001B[0m\n\u001B[0;32m    139\u001B[0m \u001B[38;5;250m\u001B[39m\u001B[38;5;124;03m\"\"\"\u001B[39;00m\n\u001B[0;32m    140\u001B[0m \u001B[38;5;124;03mScore simple :\u001B[39;00m\n\u001B[0;32m    141\u001B[0m \u001B[38;5;124;03m- pvalue petite -> meilleur (transformée -log10)\u001B[39;00m\n\u001B[0;32m    142\u001B[0m \u001B[38;5;124;03m- half-life ni trop courte ni trop longue (pénalise hors plage)\u001B[39;00m\n\u001B[0;32m    143\u001B[0m \u001B[38;5;124;03m- spread_vol non nulle (légère préférence pour un spread 'vivant')\u001B[39;00m\n\u001B[0;32m    144\u001B[0m \u001B[38;5;124;03m\"\"\"\u001B[39;00m\n\u001B[0;32m    145\u001B[0m \u001B[38;5;66;03m# p-value (plus petit, mieux)\u001B[39;00m\n\u001B[1;32m--> 146\u001B[0m pv_comp \u001B[38;5;241m=\u001B[39m \u001B[38;5;241m-\u001B[39mnp\u001B[38;5;241m.\u001B[39mlog10(\u001B[38;5;28mmax\u001B[39m(pvalue, \u001B[38;5;241m1e-12\u001B[39m)) \u001B[38;5;28;01mif\u001B[39;00m \u001B[38;5;129;01mnot\u001B[39;00m \u001B[43mnp\u001B[49m\u001B[38;5;241;43m.\u001B[39;49m\u001B[43misnan\u001B[49m\u001B[43m(\u001B[49m\u001B[43mpvalue\u001B[49m\u001B[43m)\u001B[49m \u001B[38;5;28;01melse\u001B[39;00m \u001B[38;5;241m-\u001B[39m\u001B[38;5;241m12.0\u001B[39m\n\u001B[0;32m    148\u001B[0m \u001B[38;5;66;03m# half-life (préférence milieu de plage)\u001B[39;00m\n\u001B[0;32m    149\u001B[0m \u001B[38;5;28;01mif\u001B[39;00m np\u001B[38;5;241m.\u001B[39misinf(hl) \u001B[38;5;129;01mor\u001B[39;00m np\u001B[38;5;241m.\u001B[39misnan(hl):\n",
      "\u001B[1;31mTypeError\u001B[0m: ufunc 'isnan' not supported for the input types, and the inputs could not be safely coerced to any supported types according to the casting rule ''safe''"
     ]
    }
   ],
   "execution_count": 4
  },
  {
   "metadata": {
    "ExecuteTime": {
     "end_time": "2025-10-08T21:51:29.933102500Z",
     "start_time": "2025-10-08T21:50:45.861935Z"
    }
   },
   "cell_type": "code",
   "source": [
    "out_csv = Path(\"../data/processed/pair_candidates_1h.csv\")\n",
    "out_csv.parent.mkdir(parents=True, exist_ok=True)\n",
    "pairs.to_csv(out_csv, index=False)\n",
    "out_csv"
   ],
   "id": "3eb48f1e19532d1c",
   "outputs": [
    {
     "data": {
      "text/plain": [
       "WindowsPath('../data/processed/pair_candidates_1h.csv')"
      ]
     },
     "execution_count": 100,
     "metadata": {},
     "output_type": "execute_result"
    }
   ],
   "execution_count": 100
  },
  {
   "metadata": {
    "ExecuteTime": {
     "end_time": "2025-10-08T21:51:29.933102500Z",
     "start_time": "2025-10-08T21:50:45.940921Z"
    }
   },
   "cell_type": "code",
   "source": "print(pairs[['pvalue','half_life','spread_mean','spread_vol']].describe())",
   "id": "5e63e6bcb81d3488",
   "outputs": [
    {
     "name": "stdout",
     "output_type": "stream",
     "text": [
      "          pvalue    half_life   spread_mean  spread_vol\n",
      "count  36.000000    36.000000  3.600000e+01   36.000000\n",
      "mean    0.521564   463.892875  3.695167e-14   12.183077\n",
      "std     0.325541   720.273641  9.165951e-13   17.502224\n",
      "min     0.047508    54.185820 -3.137181e-12    1.084277\n",
      "25%     0.225351    86.914436 -1.983714e-13    2.648671\n",
      "50%     0.478212   160.646264 -1.046599e-14    5.614149\n",
      "75%     0.848667   364.241861  2.306116e-13   11.349084\n",
      "max     0.976581  3311.265491  2.980715e-12   79.308910\n"
     ]
    }
   ],
   "execution_count": 101
  },
  {
   "metadata": {
    "ExecuteTime": {
     "end_time": "2025-10-08T21:51:29.933102500Z",
     "start_time": "2025-10-08T21:50:45.980858Z"
    }
   },
   "cell_type": "code",
   "source": "pairs['fdr_reject'].describe()",
   "id": "ef2e7fb124daca83",
   "outputs": [
    {
     "data": {
      "text/plain": [
       "count        36\n",
       "unique        1\n",
       "top       False\n",
       "freq         36\n",
       "Name: fdr_reject, dtype: object"
      ]
     },
     "execution_count": 102,
     "metadata": {},
     "output_type": "execute_result"
    }
   ],
   "execution_count": 102
  },
  {
   "metadata": {
    "ExecuteTime": {
     "end_time": "2025-10-08T21:51:29.933102500Z",
     "start_time": "2025-10-08T21:50:46.052686Z"
    }
   },
   "cell_type": "code",
   "outputs": [
    {
     "name": "stderr",
     "output_type": "stream",
     "text": [
      "C:\\Donnees\\Business\\Trading\\Code\\algo-trading-stat-arb\\src\\pair_selection_dynamic.py:93: FutureWarning: Series.fillna with 'method' is deprecated and will raise in a future version. Use obj.ffill() or obj.bfill() instead.\n",
      "  x = pd.Series(x).astype(float).reindex(y.index).fillna(method=\"ffill\").fillna(method=\"bfill\")\n",
      "C:\\Donnees\\Business\\Trading\\Code\\algo-trading-stat-arb\\src\\pair_selection_dynamic.py:93: FutureWarning: Series.fillna with 'method' is deprecated and will raise in a future version. Use obj.ffill() or obj.bfill() instead.\n",
      "  x = pd.Series(x).astype(float).reindex(y.index).fillna(method=\"ffill\").fillna(method=\"bfill\")\n",
      "C:\\Donnees\\Business\\Trading\\Code\\algo-trading-stat-arb\\src\\pair_selection_dynamic.py:93: FutureWarning: Series.fillna with 'method' is deprecated and will raise in a future version. Use obj.ffill() or obj.bfill() instead.\n",
      "  x = pd.Series(x).astype(float).reindex(y.index).fillna(method=\"ffill\").fillna(method=\"bfill\")\n",
      "C:\\Donnees\\Business\\Trading\\Code\\algo-trading-stat-arb\\src\\pair_selection_dynamic.py:93: FutureWarning: Series.fillna with 'method' is deprecated and will raise in a future version. Use obj.ffill() or obj.bfill() instead.\n",
      "  x = pd.Series(x).astype(float).reindex(y.index).fillna(method=\"ffill\").fillna(method=\"bfill\")\n",
      "C:\\Donnees\\Business\\Trading\\Code\\algo-trading-stat-arb\\src\\pair_selection_dynamic.py:93: FutureWarning: Series.fillna with 'method' is deprecated and will raise in a future version. Use obj.ffill() or obj.bfill() instead.\n",
      "  x = pd.Series(x).astype(float).reindex(y.index).fillna(method=\"ffill\").fillna(method=\"bfill\")\n",
      "C:\\Donnees\\Business\\Trading\\Code\\algo-trading-stat-arb\\src\\pair_selection_dynamic.py:93: FutureWarning: Series.fillna with 'method' is deprecated and will raise in a future version. Use obj.ffill() or obj.bfill() instead.\n",
      "  x = pd.Series(x).astype(float).reindex(y.index).fillna(method=\"ffill\").fillna(method=\"bfill\")\n",
      "C:\\Donnees\\Business\\Trading\\Code\\algo-trading-stat-arb\\src\\pair_selection_dynamic.py:93: FutureWarning: Series.fillna with 'method' is deprecated and will raise in a future version. Use obj.ffill() or obj.bfill() instead.\n",
      "  x = pd.Series(x).astype(float).reindex(y.index).fillna(method=\"ffill\").fillna(method=\"bfill\")\n",
      "C:\\Donnees\\Business\\Trading\\Code\\algo-trading-stat-arb\\src\\pair_selection_dynamic.py:93: FutureWarning: Series.fillna with 'method' is deprecated and will raise in a future version. Use obj.ffill() or obj.bfill() instead.\n",
      "  x = pd.Series(x).astype(float).reindex(y.index).fillna(method=\"ffill\").fillna(method=\"bfill\")\n",
      "C:\\Donnees\\Business\\Trading\\Code\\algo-trading-stat-arb\\src\\pair_selection_dynamic.py:93: FutureWarning: Series.fillna with 'method' is deprecated and will raise in a future version. Use obj.ffill() or obj.bfill() instead.\n",
      "  x = pd.Series(x).astype(float).reindex(y.index).fillna(method=\"ffill\").fillna(method=\"bfill\")\n",
      "C:\\Donnees\\Business\\Trading\\Code\\algo-trading-stat-arb\\src\\pair_selection_dynamic.py:93: FutureWarning: Series.fillna with 'method' is deprecated and will raise in a future version. Use obj.ffill() or obj.bfill() instead.\n",
      "  x = pd.Series(x).astype(float).reindex(y.index).fillna(method=\"ffill\").fillna(method=\"bfill\")\n",
      "C:\\Donnees\\Business\\Trading\\Code\\algo-trading-stat-arb\\src\\pair_selection_dynamic.py:93: FutureWarning: Series.fillna with 'method' is deprecated and will raise in a future version. Use obj.ffill() or obj.bfill() instead.\n",
      "  x = pd.Series(x).astype(float).reindex(y.index).fillna(method=\"ffill\").fillna(method=\"bfill\")\n",
      "C:\\Donnees\\Business\\Trading\\Code\\algo-trading-stat-arb\\src\\pair_selection_dynamic.py:93: FutureWarning: Series.fillna with 'method' is deprecated and will raise in a future version. Use obj.ffill() or obj.bfill() instead.\n",
      "  x = pd.Series(x).astype(float).reindex(y.index).fillna(method=\"ffill\").fillna(method=\"bfill\")\n",
      "C:\\Donnees\\Business\\Trading\\Code\\algo-trading-stat-arb\\src\\pair_selection_dynamic.py:93: FutureWarning: Series.fillna with 'method' is deprecated and will raise in a future version. Use obj.ffill() or obj.bfill() instead.\n",
      "  x = pd.Series(x).astype(float).reindex(y.index).fillna(method=\"ffill\").fillna(method=\"bfill\")\n",
      "C:\\Donnees\\Business\\Trading\\Code\\algo-trading-stat-arb\\src\\pair_selection_dynamic.py:93: FutureWarning: Series.fillna with 'method' is deprecated and will raise in a future version. Use obj.ffill() or obj.bfill() instead.\n",
      "  x = pd.Series(x).astype(float).reindex(y.index).fillna(method=\"ffill\").fillna(method=\"bfill\")\n",
      "C:\\Donnees\\Business\\Trading\\Code\\algo-trading-stat-arb\\src\\pair_selection_dynamic.py:93: FutureWarning: Series.fillna with 'method' is deprecated and will raise in a future version. Use obj.ffill() or obj.bfill() instead.\n",
      "  x = pd.Series(x).astype(float).reindex(y.index).fillna(method=\"ffill\").fillna(method=\"bfill\")\n",
      "C:\\Donnees\\Business\\Trading\\Code\\algo-trading-stat-arb\\src\\pair_selection_dynamic.py:93: FutureWarning: Series.fillna with 'method' is deprecated and will raise in a future version. Use obj.ffill() or obj.bfill() instead.\n",
      "  x = pd.Series(x).astype(float).reindex(y.index).fillna(method=\"ffill\").fillna(method=\"bfill\")\n",
      "C:\\Donnees\\Business\\Trading\\Code\\algo-trading-stat-arb\\src\\pair_selection_dynamic.py:93: FutureWarning: Series.fillna with 'method' is deprecated and will raise in a future version. Use obj.ffill() or obj.bfill() instead.\n",
      "  x = pd.Series(x).astype(float).reindex(y.index).fillna(method=\"ffill\").fillna(method=\"bfill\")\n"
     ]
    }
   ],
   "execution_count": null,
   "source": [
    "dyn_params = DynamicPairParams(\n",
    "    delta=1e-3,        # plus grand => β_t/α_t s'ajustent plus vite\n",
    "    obs_var=1.0,       # variance du bruit d'observation\n",
    "    roll_window=250,   # ~1 an trading (daily)\n",
    "    roll_step=10,\n",
    "    roll_trend=\"c\",    # \"ct\" possible si drift linéaire\n",
    "    roll_pthresh=0.05,\n",
    "    min_lookback=250\n",
    ")\n",
    "\n",
    "pairs_dyn = analyze_pairs_dynamic(prices, params=dyn_params, compute_rolling_coint=True)\n",
    "pairs_dyn.head(100)"
   ],
   "id": "f676a51abfc73933"
  },
  {
   "metadata": {
    "ExecuteTime": {
     "end_time": "2025-10-08T21:51:29.933102500Z",
     "start_time": "2025-10-08T21:50:29.610286Z"
    }
   },
   "cell_type": "code",
   "source": "print(pairs_dyn.describe())",
   "id": "ecbc0e0e0ed56c41",
   "outputs": [
    {
     "name": "stdout",
     "output_type": "stream",
     "text": [
      "       kalman_delta  kalman_obs_var  half_life_kalman  spread_mean_kalman  \\\n",
      "count        36.000            36.0              36.0           36.000000   \n",
      "mean          0.001             1.0               1.0            0.002759   \n",
      "std           0.000             0.0               0.0            0.008939   \n",
      "min           0.001             1.0               1.0           -0.005265   \n",
      "25%           0.001             1.0               1.0           -0.000010   \n",
      "50%           0.001             1.0               1.0            0.000225   \n",
      "75%           0.001             1.0               1.0            0.001419   \n",
      "max           0.001             1.0               1.0            0.050408   \n",
      "\n",
      "       spread_vol_kalman   n_obs  rolling_coint_share  \n",
      "count          36.000000    36.0            36.000000  \n",
      "mean            0.092983  1738.0             0.093960  \n",
      "std             0.159469     0.0             0.047511  \n",
      "min             0.000573  1738.0             0.020134  \n",
      "25%             0.011129  1738.0             0.053691  \n",
      "50%             0.035769  1738.0             0.083893  \n",
      "75%             0.107028  1738.0             0.135906  \n",
      "max             0.857304  1738.0             0.174497  \n"
     ]
    }
   ],
   "execution_count": 95
  },
  {
   "metadata": {
    "ExecuteTime": {
     "end_time": "2025-10-08T21:51:29.933102500Z",
     "start_time": "2025-10-08T21:48:52.521191Z"
    }
   },
   "cell_type": "code",
   "source": [
    "valid_pairs = pairs_dyn[\n",
    "    (pairs_dyn['half_life_kalman'].between(10, 250)) &    # pas trop lent ni trop instable\n",
    "    (pairs_dyn['spread_vol_kalman'] > pairs_dyn['spread_vol_kalman'].median() * 0.5) &\n",
    "    (pairs_dyn['rolling_coint_share'] > 0.5)\n",
    "].copy()\n",
    "\n",
    "valid_pairs.sort_values(['rolling_coint_share', 'half_life_kalman'], \n",
    "                        ascending=[False, True], inplace=True)\n",
    "valid_pairs.head(10)"
   ],
   "id": "54bdafff264c75fa",
   "outputs": [
    {
     "data": {
      "text/plain": [
       "Empty DataFrame\n",
       "Columns: [ticker_a, ticker_b, kalman_delta, kalman_obs_var, half_life_kalman, spread_mean_kalman, spread_vol_kalman, n_obs, rolling_coint_share]\n",
       "Index: []"
      ],
      "text/html": [
       "<div>\n",
       "<style scoped>\n",
       "    .dataframe tbody tr th:only-of-type {\n",
       "        vertical-align: middle;\n",
       "    }\n",
       "\n",
       "    .dataframe tbody tr th {\n",
       "        vertical-align: top;\n",
       "    }\n",
       "\n",
       "    .dataframe thead th {\n",
       "        text-align: right;\n",
       "    }\n",
       "</style>\n",
       "<table border=\"1\" class=\"dataframe\">\n",
       "  <thead>\n",
       "    <tr style=\"text-align: right;\">\n",
       "      <th></th>\n",
       "      <th>ticker_a</th>\n",
       "      <th>ticker_b</th>\n",
       "      <th>kalman_delta</th>\n",
       "      <th>kalman_obs_var</th>\n",
       "      <th>half_life_kalman</th>\n",
       "      <th>spread_mean_kalman</th>\n",
       "      <th>spread_vol_kalman</th>\n",
       "      <th>n_obs</th>\n",
       "      <th>rolling_coint_share</th>\n",
       "    </tr>\n",
       "  </thead>\n",
       "  <tbody>\n",
       "  </tbody>\n",
       "</table>\n",
       "</div>"
      ]
     },
     "execution_count": 91,
     "metadata": {},
     "output_type": "execute_result"
    }
   ],
   "execution_count": 91
  },
  {
   "metadata": {
    "ExecuteTime": {
     "end_time": "2025-10-08T21:51:29.948777100Z",
     "start_time": "2025-10-08T21:48:52.600645Z"
    }
   },
   "cell_type": "code",
   "source": [
    "import matplotlib.pyplot as plt\n",
    "from src.pair_selection_dynamic import kalman_beta_alpha, half_life\n",
    "\n",
    "a, b = pairs_dyn.loc[9, ['ticker_a','ticker_b']]\n",
    "df = pd.concat([prices[a], prices[b]], axis=1, keys=[a,b]).dropna()\n",
    "y, x = df[a], df[b]\n",
    "beta_t, alpha_t = kalman_beta_alpha(y, x, delta=dyn_params.delta, obs_var=dyn_params.obs_var)\n",
    "\n",
    "spread = pd.Series(y.values - (alpha_t + beta_t * x.values), index=df.index)\n",
    "print(\"Half-life (bars) =\", half_life(spread))\n",
    "\n",
    "plt.figure(figsize=(10,4))\n",
    "spread.plot()\n",
    "plt.title(f\"Spread Kalmanisé {a}/{b}\")\n",
    "plt.axhline(spread.mean(), linestyle=\"--\")\n",
    "plt.show()\n"
   ],
   "id": "6c9c567ab3fbd325",
   "outputs": [
    {
     "name": "stderr",
     "output_type": "stream",
     "text": [
      "C:\\Donnees\\Business\\Trading\\Code\\algo-trading-stat-arb\\src\\pair_selection_dynamic.py:93: FutureWarning: Series.fillna with 'method' is deprecated and will raise in a future version. Use obj.ffill() or obj.bfill() instead.\n",
      "  x = pd.Series(x).astype(float).reindex(y.index).fillna(method=\"ffill\").fillna(method=\"bfill\")\n"
     ]
    },
    {
     "name": "stdout",
     "output_type": "stream",
     "text": [
      "Half-life (bars) = 1.0\n"
     ]
    },
    {
     "data": {
      "text/plain": [
       "<Figure size 1000x400 with 1 Axes>"
      ],
      "image/png": "[encoded data removed]"
     },
     "metadata": {},
     "output_type": "display_data"
    }
   ],
   "execution_count": 92
  },
  {
   "metadata": {
    "ExecuteTime": {
     "end_time": "2025-10-08T21:51:29.948777100Z",
     "start_time": "2025-10-08T21:48:53.085824Z"
    }
   },
   "cell_type": "code",
   "source": [
    "from statsmodels.tsa.stattools import adfuller\n",
    "\n",
    "# spread = Série pandas indexée (déjà calculée)\n",
    "print(\"moyenne:\", float(spread.mean()))\n",
    "print(\"std:\", float(spread.std()))\n",
    "\n",
    "adf_stat, pval, *_ = adfuller(spread.dropna(), autolag=\"AIC\")\n",
    "print(\"ADF stat:\", adf_stat, \"p-value:\", pval)   # p-value < 0.05 -> stationnaire"
   ],
   "id": "c9f3ff8f3dd7ed59",
   "outputs": [
    {
     "name": "stdout",
     "output_type": "stream",
     "text": [
      "moyenne: 0.003909549154827089\n",
      "std: 0.07596908354843164\n",
      "ADF stat: -33.12259043055736 p-value: 0.0\n"
     ]
    }
   ],
   "execution_count": 93
  }
 ],
 "metadata": {
  "kernelspec": {
   "display_name": "Python 3",
   "language": "python",
   "name": "python3"
  },
  "language_info": {
   "codemirror_mode": {
    "name": "ipython",
    "version": 2
   },
   "file_extension": ".py",
   "mimetype": "text/x-python",
   "name": "python",
   "nbconvert_exporter": "python",
   "pygments_lexer": "ipython2",
   "version": "2.7.6"
  }
 },
 "nbformat": 4,
 "nbformat_minor": 5
}
